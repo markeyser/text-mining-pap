{
 "cells": [
  {
   "cell_type": "markdown",
   "metadata": {
    "slideshow": {
     "slide_type": "slide"
    }
   },
   "source": [
    "# Overview of Topic Modeling"
   ]
  },
  {
   "cell_type": "markdown",
   "metadata": {
    "slideshow": {
     "slide_type": "slide"
    }
   },
   "source": [
    "Let's quickly discuss an overview of what topic modeling is before we actually dive into the methods of topic modeling.\n",
    "\n",
    "So we're going to learn about **Latent Dirichlet Allocation** and **non-negative Matrix Factorization**. But first, let's to understand general topic of **Topic Modeling** and why it's important."
   ]
  },
  {
   "cell_type": "markdown",
   "metadata": {
    "slideshow": {
     "slide_type": "slide"
    }
   },
   "source": [
    "- Topic Modeling allows us to efficiently analyze large volumes of text by clustering documents together into **topics**.\n",
    "\n",
    "- A large amount of text data is actually **unlabelled** meaning we won't be able to apply our previous supervised learning approaches because those machine learning models would actually depend on historical labeled data. In the real world, specifically for text data, you're not going to have a convenient label attached to a text dataset such as positive or negative or spam versus ham. Instead, you may have a variety of labels such as the different categories a newspaper article could be in and you may just have the text itself unlabelled. So it's up to us to try to discover those labels through topic modeling."
   ]
  },
  {
   "cell_type": "markdown",
   "metadata": {
    "slideshow": {
     "slide_type": "slide"
    }
   },
   "source": [
    "- So again, if we have **unlabeled** data then we can attempt to \"discover\" these labels.\n",
    "\n",
    "- And in the case of text data this means really attempting to discover clusters of similar documents grouped together hopefully by some sort of topic."
   ]
  },
  {
   "cell_type": "markdown",
   "metadata": {
    "slideshow": {
     "slide_type": "slide"
    }
   },
   "source": [
    "- A very important idea to keep in mind here is that it's actually very difficult to evaluate an unsupervised learning model's effectiveness because we didn't actually know the correct topic or the right answer to begin with.\n",
    "\n",
    "- All we know is that the documents clustered together share some sort of similar topic ideas.\n",
    "\n",
    "- It's up to the user to identify what these topics actually represent.\n",
    "\n",
    "So again these unsupervised learning algorithms, there's not really a good way to evaluate how well they did because we never really had a right answer to begin with."
   ]
  },
  {
   "cell_type": "markdown",
   "metadata": {
    "slideshow": {
     "slide_type": "slide"
    }
   },
   "source": [
    "- We're going to begin by examining how **Latent Dirichlet Allocation** works and how it can attempt to discover topics for a corpus of documents."
   ]
  }
 ],
 "metadata": {
  "kernelspec": {
   "display_name": "Python 3",
   "language": "python",
   "name": "python3"
  },
  "language_info": {
   "codemirror_mode": {
    "name": "ipython",
    "version": 3
   },
   "file_extension": ".py",
   "mimetype": "text/x-python",
   "name": "python",
   "nbconvert_exporter": "python",
   "pygments_lexer": "ipython3",
   "version": "3.6.8"
  },
  "toc": {
   "base_numbering": 1,
   "nav_menu": {},
   "number_sections": false,
   "sideBar": true,
   "skip_h1_title": false,
   "title_cell": "Table of Contents",
   "title_sidebar": "Contents",
   "toc_cell": false,
   "toc_position": {},
   "toc_section_display": true,
   "toc_window_display": false
  },
  "varInspector": {
   "cols": {
    "lenName": 16,
    "lenType": 16,
    "lenVar": 40
   },
   "kernels_config": {
    "python": {
     "delete_cmd_postfix": "",
     "delete_cmd_prefix": "del ",
     "library": "var_list.py",
     "varRefreshCmd": "print(var_dic_list())"
    },
    "r": {
     "delete_cmd_postfix": ") ",
     "delete_cmd_prefix": "rm(",
     "library": "var_list.r",
     "varRefreshCmd": "cat(var_dic_list()) "
    }
   },
   "types_to_exclude": [
    "module",
    "function",
    "builtin_function_or_method",
    "instance",
    "_Feature"
   ],
   "window_display": false
  }
 },
 "nbformat": 4,
 "nbformat_minor": 2
}
