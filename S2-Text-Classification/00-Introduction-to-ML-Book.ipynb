{
 "cells": [
  {
   "cell_type": "markdown",
   "metadata": {},
   "source": [
    "# Introduciton to ML"
   ]
  },
  {
   "cell_type": "markdown",
   "metadata": {},
   "source": [
    "## Companion Book\n",
    "\n",
    "Throughout this section of the course, we're going to be using the **\"Introduction to Statistical Learning\"** by Gareth James, Daniela Witten, Trevor Hastie and Robert Tibshirani as a companion book.\n",
    "\n",
    "It's freely available online, let's see how to get it:\n",
    "\n",
    "http://faculty.marshall.usc.edu/gareth-james/ISL/\n",
    "\n",
    "> The term ***Statistical Learning*** is just another way to\n",
    "phrase ***Machine Learning*** from your more mathematical background.\n",
    ">\n",
    "> You should know that this book has its applications coded out in R programming language.\n",
    "However we're going to be using this book as a mathematical reference.\n",
    "\n",
    "You'll be giving optional reading assignments and you'll go ahead and read the book to get the mathematics and the deeper mathematical background behind the actual theories and algorithms that you learn throughout the machine learning section of the course.\n",
    "\n",
    "So for example if we're discussing linear regression you'll get a reading assignment to read chapter 3 of this book. \n",
    "\n",
    "Now if you do want to do the reading I would recommend that you read chapters 1 and 2 right now to gain a background understanding before continuing the rest of the machine learning lectures."
   ]
  },
  {
   "cell_type": "markdown",
   "metadata": {},
   "source": [
    "## What is Machine Learning?\n",
    "\n",
    "- Machine Learning is a method of data analysis that automates analytical model building\n",
    "- Using algorithms that iteratively learn from data, machine learning allows computers to find hidden insights without being explicitly programmed where to look."
   ]
  },
  {
   "cell_type": "markdown",
   "metadata": {},
   "source": [
    "## What is it used for?\n",
    "\n",
    "- Fraud detection\n",
    "- Web search results\n",
    "- Real-time ads on web pages\n",
    "- Credit scoring and next-best offers\n",
    "- Prediction of equipment failures\n",
    "- New pricing models\n",
    "- Network instrusion detection\n",
    "- Recommendation Engines\n",
    "- Customer Segmentation\n",
    "- Text Sentiment Analysis\n",
    "- Predicting Customer Churn\n",
    "- Pattern and image recognition\n",
    "- Email spam filtering\n",
    "- Financial Modeling\n",
    "\n",
    "...and so much more"
   ]
  },
  {
   "cell_type": "markdown",
   "metadata": {},
   "source": [
    "## Machine Learning Process\n",
    "\n",
    "Let's talk about the machine learning process in general.\n",
    "\n",
    "![](../imgs/mlbook.png)\n",
    "\n",
    "- First you need to acquire data.\n",
    "\n",
    "- So your data is going to have a lot of features based off whatever you're trying to study.\n",
    "\n",
    "- Then you'll probably have to clean your data to get it into a nice format and you can use your pandas skills in order to do that \n",
    "\n",
    "- Then you're going to **split** your data into **test data** and **training data**.\n",
    "\n",
    "- You will train your machine learning model on your training data and then you will test your model on the test data which the model hasn't seen before.\n",
    "\n",
    "- And then you can iterate through this process try to tune your model to best fit both the training data and then test well on the test data.\n",
    "\n",
    "- Then once it's ready you can deploy your model"
   ]
  },
  {
   "cell_type": "markdown",
   "metadata": {},
   "source": [
    "There are 3 main types of Mahcine Learning algorithms\n",
    "\n",
    "- Supervised Learning\n",
    "- Unsupervised Learning\n",
    "- Reinforcement Learning"
   ]
  },
  {
   "cell_type": "markdown",
   "metadata": {},
   "source": [
    "### Supervised Learning\n",
    "\n",
    "- **Supervised Learning** algorithms are trained using **labeled** examples, such as an input where the desired output is known.\n",
    "- For example, a piece of equipment could have dta points labeled either \"F\" (failed) or \"R\" (runs).\n",
    "- The learning algorithm receives a set of inputs along with the corresponding correct outputs, and the algorithm learns by comparing its actual output with correct outputs to find errors.\n",
    "- It then modifies the model accordingly.\n",
    "- Through methods like **classification** and **regression**, supervised learning uses patterns to predict the values of the label on additional unlabeled data.\n",
    "- Suppervised learning is commonly used in applications where historical data predicts likely future events."
   ]
  },
  {
   "cell_type": "markdown",
   "metadata": {},
   "source": [
    "Finsih this!!!!"
   ]
  },
  {
   "cell_type": "code",
   "execution_count": null,
   "metadata": {},
   "outputs": [],
   "source": []
  }
 ],
 "metadata": {
  "kernelspec": {
   "display_name": "Python 3",
   "language": "python",
   "name": "python3"
  },
  "language_info": {
   "codemirror_mode": {
    "name": "ipython",
    "version": 3
   },
   "file_extension": ".py",
   "mimetype": "text/x-python",
   "name": "python",
   "nbconvert_exporter": "python",
   "pygments_lexer": "ipython3",
   "version": "3.6.6"
  }
 },
 "nbformat": 4,
 "nbformat_minor": 2
}
