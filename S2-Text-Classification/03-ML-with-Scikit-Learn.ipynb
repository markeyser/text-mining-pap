{
 "cells": [
  {
   "cell_type": "markdown",
   "metadata": {
    "slideshow": {
     "slide_type": "slide"
    }
   },
   "source": [
    "# Machine Learning with Scikit-Learn"
   ]
  },
  {
   "cell_type": "markdown",
   "metadata": {
    "slideshow": {
     "slide_type": "slide"
    }
   },
   "source": [
    "Now that we've gotten an introduction to machine learning is in this lecture we're going to discuss how we're going to be using Python and the sikat learn package to perform machine learning with Python."
   ]
  },
  {
   "cell_type": "markdown",
   "metadata": {
    "slideshow": {
     "slide_type": "slide"
    }
   },
   "source": [
    "- Like I mention we're going to be using the **Scikit Learn** package for Python.\n",
    "- It's the most popular machine learning package for Python and it has a lot of algorithms already built into it."
   ]
  },
  {
   "cell_type": "markdown",
   "metadata": {
    "slideshow": {
     "slide_type": "slide"
    }
   },
   "source": [
    "In case you need to install Scikit-Learn:\n",
    "\n",
    "\n",
    "If you have the Anaconda distribution:\n",
    "\n",
    "```bash\n",
    "$ conda install scikit-learn\n",
    "```\n",
    "\n",
    "or \n",
    "\n",
    "If you have another Python distribution:\n",
    "\n",
    "```bash\n",
    "$ pip install scikit-learn\n",
    "```"
   ]
  },
  {
   "cell_type": "markdown",
   "metadata": {
    "slideshow": {
     "slide_type": "slide"
    }
   },
   "source": [
    "## Machine Learning Process\n",
    "\n",
    "- Let's talk about the basic structure of how to use Scikit-Learn\n",
    "\n",
    "First a quick review of the machine learning process: \n",
    "\n",
    "[image]\n",
    "\n",
    "The machine learning process starts off with your data. Somehow you need to acquire data and then the next step usually is to clean that data and format it so that the machine learning model can accept it. \n",
    "\n",
    "Before you actually give it to the machine learning model however you're going to split that clean the data into a **test** set and a **training set**.\n",
    "\n",
    "Your **train** your model or the **training set** and then in the next step you **test** your model on the **test set**\n",
    "\n",
    "You **iterate** your model and **tune the parameters** of your model until it's ready to **deploy**."
   ]
  },
  {
   "cell_type": "markdown",
   "metadata": {
    "slideshow": {
     "slide_type": "slide"
    }
   },
   "source": [
    "## Scikit Learn\n",
    "\n",
    "- Now let's go over an example of the process to use Scikit-Learn.\n",
    "- Now don't worry about memorizing any of this. We're going to get plenty of practice and review all of this when we actually start coding in subsequent lectures."
   ]
  },
  {
   "cell_type": "markdown",
   "metadata": {
    "slideshow": {
     "slide_type": "slide"
    }
   },
   "source": [
    "Every algorithm in Scikit-Learn is exposed via an **\"Estimator\"** object.\n",
    "\n",
    "First you'll import the model and the general form of this is:\n",
    "\n",
    "```python\n",
    "from sklearn.family import Model\n",
    "```\n",
    "\n",
    "Example:\n",
    "\n",
    "```python\n",
    "from sklearn.linear_model import LinearRegression\n",
    "```\n",
    "\n",
    "the `LinearRegression` is the Estimator object, it is the model itself. And then,  the next step is to **instantiate** that model or estimator."
   ]
  },
  {
   "cell_type": "markdown",
   "metadata": {
    "slideshow": {
     "slide_type": "slide"
    }
   },
   "source": [
    "**Estimator parameters**: All the parameters of an estimator can be set when it is instantiated, and all of them have suitable default values.\n",
    "\n",
    "You can use `Shift+tab` in jupyter to check the possible parameters"
   ]
  },
  {
   "cell_type": "markdown",
   "metadata": {
    "slideshow": {
     "slide_type": "slide"
    }
   },
   "source": [
    "**For example**: For example you can instantiate a linear regression model by specifying a parameter to be normalized equals true. Then, print the model you just instantiated.\n",
    "\n",
    "```python\n",
    "model = LinearRegression(normalize=True)\n",
    "print(model)\n",
    "```\n",
    "\n",
    "Output:\n",
    "\n",
    "```\n",
    "LinearRegression(copy_X=True, fit_intercept=True, normalize=True)\n",
    "```\n",
    "\n",
    "You can go ahead and check out the parameters that were defaulted to the model such as the intercept true and fit intercept true again you actually don't need to specify normalized as equal to true. Those are just additional parameters you can use to tune the model to something more specific."
   ]
  },
  {
   "cell_type": "markdown",
   "metadata": {
    "slideshow": {
     "slide_type": "slide"
    }
   },
   "source": [
    "Once you have your model created your parameters it's time to fit your model on some data.\n",
    "\n",
    "But remember we should split this data into a **training set** and a **test set**. Let's see an example:"
   ]
  },
  {
   "cell_type": "code",
   "execution_count": 2,
   "metadata": {
    "slideshow": {
     "slide_type": "slide"
    }
   },
   "outputs": [
    {
     "data": {
      "text/plain": [
       "array([[0, 1],\n",
       "       [2, 3],\n",
       "       [4, 5],\n",
       "       [6, 7],\n",
       "       [8, 9]])"
      ]
     },
     "execution_count": 2,
     "metadata": {},
     "output_type": "execute_result"
    }
   ],
   "source": [
    "import numpy as np\n",
    "from sklearn.model_selection import train_test_split\n",
    "X, y = np.arange(10).reshape((5,2)), range(5)\n",
    "X"
   ]
  },
  {
   "cell_type": "code",
   "execution_count": 5,
   "metadata": {
    "slideshow": {
     "slide_type": "slide"
    }
   },
   "outputs": [
    {
     "data": {
      "text/plain": [
       "[0, 1, 2, 3, 4]"
      ]
     },
     "execution_count": 5,
     "metadata": {},
     "output_type": "execute_result"
    }
   ],
   "source": [
    "list(y)"
   ]
  },
  {
   "cell_type": "markdown",
   "metadata": {
    "slideshow": {
     "slide_type": "slide"
    }
   },
   "source": [
    "We need to import numpy to create some facke data. \n",
    "\n",
    "Then, the way to use Scikit-Learn to do a train, set split, splitting your data into training and test data is importing from `sklearn.model_selection` the `train_test_split` function. \n",
    "\n",
    "Then we have a set of data, `X` and `y` where `X` is the atual features and `y` is the actua label for each of those features rows. \n",
    "\n",
    "Using `train_test_split` you pass in  `X` and `y` and you pass in the test size."
   ]
  },
  {
   "cell_type": "code",
   "execution_count": 6,
   "metadata": {
    "slideshow": {
     "slide_type": "slide"
    }
   },
   "outputs": [],
   "source": [
    "X_train, X_test, y_train, y_test = train_test_split(X, y, test_size=0.3)"
   ]
  },
  {
   "cell_type": "code",
   "execution_count": 7,
   "metadata": {
    "slideshow": {
     "slide_type": "slide"
    }
   },
   "outputs": [
    {
     "data": {
      "text/plain": [
       "array([[0, 1],\n",
       "       [6, 7],\n",
       "       [2, 3]])"
      ]
     },
     "execution_count": 7,
     "metadata": {},
     "output_type": "execute_result"
    }
   ],
   "source": [
    "X_train"
   ]
  },
  {
   "cell_type": "code",
   "execution_count": 8,
   "metadata": {
    "slideshow": {
     "slide_type": "subslide"
    }
   },
   "outputs": [
    {
     "data": {
      "text/plain": [
       "[0, 3, 1]"
      ]
     },
     "execution_count": 8,
     "metadata": {},
     "output_type": "execute_result"
    }
   ],
   "source": [
    "y_train"
   ]
  },
  {
   "cell_type": "code",
   "execution_count": 9,
   "metadata": {
    "slideshow": {
     "slide_type": "subslide"
    }
   },
   "outputs": [
    {
     "data": {
      "text/plain": [
       "array([[4, 5],\n",
       "       [8, 9]])"
      ]
     },
     "execution_count": 9,
     "metadata": {},
     "output_type": "execute_result"
    }
   ],
   "source": [
    "X_test"
   ]
  },
  {
   "cell_type": "code",
   "execution_count": 10,
   "metadata": {
    "slideshow": {
     "slide_type": "subslide"
    }
   },
   "outputs": [
    {
     "data": {
      "text/plain": [
       "[2, 4]"
      ]
     },
     "execution_count": 10,
     "metadata": {},
     "output_type": "execute_result"
    }
   ],
   "source": [
    "y_test"
   ]
  },
  {
   "cell_type": "markdown",
   "metadata": {
    "slideshow": {
     "slide_type": "slide"
    }
   },
   "source": [
    "You can use `train_test_split` on your features and labels and Scikit-Learn will automatically output your training set and your testing set.\n",
    "\n",
    "Basically you just have your labels for your training and testing data as well as your features for your training and testing data."
   ]
  },
  {
   "cell_type": "markdown",
   "metadata": {
    "slideshow": {
     "slide_type": "slide"
    }
   },
   "source": [
    "Now that we have split the data, we can **train/fit our model** on the **training data**. \n",
    "\n",
    "This is done through the `model.fit()` method:\n",
    "\n",
    "```python\n",
    "model.fit(X_train,y_train)\n",
    "```\n",
    "\n",
    "Basically you take your model and, remember, we instantiated it as a linear regression estimator and then you say `model.fit()` and you pass in your training data, yoou pass in your `X` training data which the features of your data and then you\n",
    "pass in your `y` training data which are the training labels."
   ]
  },
  {
   "cell_type": "markdown",
   "metadata": {
    "slideshow": {
     "slide_type": "slide"
    }
   },
   "source": [
    "- Now the model has been fit and trained on the training data.\n",
    "- The model is ready to predict labels or values on the test set.\n",
    "\n",
    "> Keep in mind I'm showing an example of a supervised learning process.\n",
    "The process for an unsupervised model is going to be a little different because you're actually not going to have those labels."
   ]
  },
  {
   "cell_type": "markdown",
   "metadata": {
    "slideshow": {
     "slide_type": "slide"
    }
   },
   "source": [
    "For a supervise learning model we get **predicted values** using the predict method:\n",
    "\n",
    "```python\n",
    "predictions = model.predict(X_test)\n",
    "```\n",
    "\n"
   ]
  },
  {
   "cell_type": "markdown",
   "metadata": {
    "slideshow": {
     "slide_type": "slide"
    }
   },
   "source": [
    "We can then **evaluate** our model by comparing our predictions to the correct values.\n",
    "\n",
    "The evaluation methdo depends on what sort of machine learning algorithm we are using (e.g. Regression, Classificaiton, Clustering, etc.)"
   ]
  },
  {
   "cell_type": "markdown",
   "metadata": {
    "slideshow": {
     "slide_type": "slide"
    }
   },
   "source": [
    "Let's get a quick recap!\n",
    "\n",
    "\n",
    "Scikit-Learn really strives to have a uniform interface across all methods and we're going to see examples of these below.\n",
    "\n",
    "Given a Scikit-Learn _estimator_ object named model these following methods are available on all estimators."
   ]
  },
  {
   "cell_type": "markdown",
   "metadata": {
    "slideshow": {
     "slide_type": "slide"
    }
   },
   "source": [
    "\n",
    "- Available in **all Estimators**:\n",
    "\n",
    "    - `model.fit()`: fit training data.\n",
    "    - For supervised learning applications, this accepts two arguiments: the data `X` and the labels `y` (e.g. `model.fit(X,y))`.\n",
    "    - For unsupervised learning applications, this accepts only a single argument, the data `X` (e.g. `model.fit(X))`."
   ]
  },
  {
   "cell_type": "markdown",
   "metadata": {
    "slideshow": {
     "slide_type": "slide"
    }
   },
   "source": [
    "- Available in **supervised estimators**:\n",
    "\n",
    "    - `model.predict()`: given a trained model, predict the label of a new set of data. This method accepts one argument, the new data `X_new` (e.g. `model.predict(X_new))`, and returns the learned label for each object in the array."
   ]
  },
  {
   "cell_type": "markdown",
   "metadata": {
    "slideshow": {
     "slide_type": "slide"
    }
   },
   "source": [
    "- Available in **supervised estimators**:\n",
    "\n",
    "    - `model.predict_proba()`: For classification problems, some estimators also provide this method, which returns the probability that a new observation has each categorical label. In this case, the label with the highest probability is returned by `model.predict()`."
   ]
  },
  {
   "cell_type": "markdown",
   "metadata": {
    "slideshow": {
     "slide_type": "slide"
    }
   },
   "source": [
    "- Available in **supervised estimators**:\n",
    "\n",
    "    - `model.score()`: for classificaiton or regression problems, most estimators implement a score method. Scores are between 0 and 1, with a larger score indicating a better fit."
   ]
  },
  {
   "cell_type": "markdown",
   "metadata": {
    "slideshow": {
     "slide_type": "slide"
    }
   },
   "source": [
    "- Available in **unsupervised estimators**:\n",
    "\n",
    "    - `model.predit()`: predict labels in clustering algorithms.\n",
    "    \n",
    "    \n",
    "- Available in **unsupervised estimators**:\n",
    "\n",
    "    - `model.transform()`: given a unsupervised model, transform new data into the new basis. This also accepts one argument `X_new`, and returns the new representation of the data based on the unsupervised model.\n",
    "    \n",
    "    \n",
    "- Available in **unsupervised estimators**:\n",
    "\n",
    "    - `model.fit_transform()`: some estimators implement this method, which more efficiently performs a fit and a transform on the same input data."
   ]
  },
  {
   "cell_type": "markdown",
   "metadata": {
    "slideshow": {
     "slide_type": "slide"
    }
   },
   "source": [
    "## Choosing the right Algorithm\n",
    "\n",
    "Maybe you wondering well how do I choose an algorithm classification versus regression versus clustering.\n",
    "\n",
    "If you go ahead and just google search Scikit-Learn algorithm cheat sheet you should get an image that looks like this.\n",
    "\n",
    "\n",
    "https://scikit-learn.org/stable/tutorial/machine_learning_map/index.html\n",
    "\n",
    "\n",
    "And this is from the official Scikit-Learn documentation. But basically this is a bit of a decision tree or a walkthrough guide on how to actually go about choosing\n",
    "an algorithm and if we go ahead and start off you'll see that it asks you the more than 50 samples.\n",
    "\n",
    "If not you should really get more data. If you do have more than 50 samples then asks you Are you trying to predict the category predict the\n",
    "quantity. Whether your label is data, etc."
   ]
  },
  {
   "cell_type": "code",
   "execution_count": null,
   "metadata": {},
   "outputs": [],
   "source": []
  }
 ],
 "metadata": {
  "kernelspec": {
   "display_name": "Python 3",
   "language": "python",
   "name": "python3"
  },
  "language_info": {
   "codemirror_mode": {
    "name": "ipython",
    "version": 3
   },
   "file_extension": ".py",
   "mimetype": "text/x-python",
   "name": "python",
   "nbconvert_exporter": "python",
   "pygments_lexer": "ipython3",
   "version": "3.6.8"
  },
  "toc": {
   "base_numbering": 1,
   "nav_menu": {},
   "number_sections": false,
   "sideBar": true,
   "skip_h1_title": false,
   "title_cell": "Table of Contents",
   "title_sidebar": "Contents",
   "toc_cell": false,
   "toc_position": {},
   "toc_section_display": true,
   "toc_window_display": false
  },
  "varInspector": {
   "cols": {
    "lenName": 16,
    "lenType": 16,
    "lenVar": 40
   },
   "kernels_config": {
    "python": {
     "delete_cmd_postfix": "",
     "delete_cmd_prefix": "del ",
     "library": "var_list.py",
     "varRefreshCmd": "print(var_dic_list())"
    },
    "r": {
     "delete_cmd_postfix": ") ",
     "delete_cmd_prefix": "rm(",
     "library": "var_list.r",
     "varRefreshCmd": "cat(var_dic_list()) "
    }
   },
   "types_to_exclude": [
    "module",
    "function",
    "builtin_function_or_method",
    "instance",
    "_Feature"
   ],
   "window_display": false
  }
 },
 "nbformat": 4,
 "nbformat_minor": 2
}
