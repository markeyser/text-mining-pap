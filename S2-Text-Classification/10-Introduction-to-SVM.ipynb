{
 "cells": [
  {
   "cell_type": "markdown",
   "metadata": {
    "slideshow": {
     "slide_type": "slide"
    }
   },
   "source": [
    "# Introduction to Support Vector Machines"
   ]
  },
  {
   "cell_type": "markdown",
   "metadata": {
    "slideshow": {
     "slide_type": "slide"
    }
   },
   "source": [
    "In this lecture will discuss the formal definition of support to machines and then try to get an understanding of the intuition behind support vector machines or SVMs \n",
    "\n",
    "> If you want the mathematics behind this algorithm go ahead and read Chapter 9 of an **Introduction to Statistical Learning**. "
   ]
  },
  {
   "cell_type": "markdown",
   "metadata": {
    "slideshow": {
     "slide_type": "slide"
    }
   },
   "source": [
    "Support Vector Machines or SVMs as are also known are supervised learning models with associated learning algorithms that analyze data and recognize patterns. They are useful for classification and regression analysis.\n",
    "\n",
    "In this lecture we'll be talking about their use for classification."
   ]
  },
  {
   "cell_type": "markdown",
   "metadata": {
    "slideshow": {
     "slide_type": "slide"
    }
   },
   "source": [
    "Given a set of trainee examples, each marked for belonging to one of two categories, so binary classification, an SVM training algorithm builds a model that assigns new examples into one category or the other, making it a non probabilistic binary linear classifier."
   ]
  },
  {
   "cell_type": "markdown",
   "metadata": {
    "slideshow": {
     "slide_type": "slide"
    }
   },
   "source": [
    "A SVM model is a representation of the examples as points in space,  mapped so that the examples of the separate categories are divided by a clear gap that is as wide as possible.\n",
    "\n",
    "And that's going to begin to set the intuition for an SVM that we'll see later on through some plots and diagrams.\n",
    "\n",
    "New examples are then mapped into that same space and predicted to belong to the category based on which side of that gap they fall on."
   ]
  },
  {
   "cell_type": "markdown",
   "metadata": {
    "slideshow": {
     "slide_type": "slide"
    }
   },
   "source": [
    "Let's try to understand the basic intuition through looking at some diagrams and some plotted out data.\n",
    "\n",
    "Imagine we have the training data below. Here we have two classes.\n",
    "\n",
    "\n",
    "![](../imgs/svm01.png)"
   ]
  },
  {
   "cell_type": "markdown",
   "metadata": {
    "slideshow": {
     "slide_type": "slide"
    }
   },
   "source": [
    "We have a blue class and a pink class.\n",
    "\n",
    "Now what we're going to try to do is a binary classification for new points.\n",
    "\n",
    "We want to put a new point on this plot, where the horizontal axis is some feature one and the y vertical axis is a feature too.\n",
    "\n",
    "When we put a new point we wanted the and does it belong to the blue class or the pink class.\n",
    "\n",
    "\n",
    "![](../imgs/svm02.png)\n"
   ]
  },
  {
   "cell_type": "markdown",
   "metadata": {
    "slideshow": {
     "slide_type": "slide"
    }
   },
   "source": [
    "Intuitively what we could do is draw a separating hyperplane. In the case of two dymensions is just a line between the classes.\n",
    "\n",
    "However we have lots of options of hyperplane that separate these two classes perfectly.\n",
    "\n",
    "Notice that the pink black and green line would all separate the blue and pink training points perfectly.\n",
    "\n",
    "![](../imgs/svm03.png)"
   ]
  },
  {
   "cell_type": "markdown",
   "metadata": {
    "slideshow": {
     "slide_type": "slide"
    }
   },
   "source": [
    "> **The question that arises: how do we actually choose the line that separates these classes the best?**\n",
    "\n",
    "What we would like to do is choose a hyperplane that maximizes the margin between the classes. So you'll see a diagram, typically it looks like this, where you have a separating hyperplane, here denoted as the dotted line and then a margin that extends out from that hyperplane.\n",
    "\n",
    "![](../imgs/svm04.png)"
   ]
  },
  {
   "cell_type": "markdown",
   "metadata": {
    "slideshow": {
     "slide_type": "slide"
    }
   },
   "source": [
    "The vector points at the margin line touch are known as **support vectors** and that's where the name support vector machines come from.\n",
    "\n",
    "![](../imgs/svm05.png)\n",
    "\n",
    "Here we can see the circle points that are the support vectors, those are the training points that actually touch those margin lines."
   ]
  }
 ],
 "metadata": {
  "kernelspec": {
   "display_name": "Python 3",
   "language": "python",
   "name": "python3"
  },
  "language_info": {
   "codemirror_mode": {
    "name": "ipython",
    "version": 3
   },
   "file_extension": ".py",
   "mimetype": "text/x-python",
   "name": "python",
   "nbconvert_exporter": "python",
   "pygments_lexer": "ipython3",
   "version": "3.6.8"
  },
  "toc": {
   "base_numbering": 1,
   "nav_menu": {},
   "number_sections": false,
   "sideBar": true,
   "skip_h1_title": false,
   "title_cell": "Table of Contents",
   "title_sidebar": "Contents",
   "toc_cell": false,
   "toc_position": {},
   "toc_section_display": true,
   "toc_window_display": false
  },
  "varInspector": {
   "cols": {
    "lenName": 16,
    "lenType": 16,
    "lenVar": 40
   },
   "kernels_config": {
    "python": {
     "delete_cmd_postfix": "",
     "delete_cmd_prefix": "del ",
     "library": "var_list.py",
     "varRefreshCmd": "print(var_dic_list())"
    },
    "r": {
     "delete_cmd_postfix": ") ",
     "delete_cmd_prefix": "rm(",
     "library": "var_list.r",
     "varRefreshCmd": "cat(var_dic_list()) "
    }
   },
   "types_to_exclude": [
    "module",
    "function",
    "builtin_function_or_method",
    "instance",
    "_Feature"
   ],
   "window_display": false
  }
 },
 "nbformat": 4,
 "nbformat_minor": 2
}
