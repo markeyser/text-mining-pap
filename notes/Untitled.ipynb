{
 "cells": [
  {
   "cell_type": "markdown",
   "metadata": {},
   "source": [
    "# VADER Sentiment With Python and NLTK"
   ]
  },
  {
   "cell_type": "markdown",
   "metadata": {},
   "source": [
    "In this lecture we're going to discuss the general idea behind voter sentiment analysis with Python and NLTK.\n",
    "\n",
    "- We've already explored tech's classification and using it to predict sentiment labels on pre-labeled movie reviews.\n",
    "\n",
    "That means someone has already read the review for us and manually labeled it either positive or negative.\n",
    "\n",
    "- But what happens if we don't already have those labels \n",
    "\n",
    "- Are there pre-constructed methods of attempting to discern sentiments sentiment being whether you feel positive about the text or negative about the text or neutral on raw unlabeled text.\n",
    "\n",
    "Is there a way we can take that raw text data and pass it through some sort of pre-built algorithm that will directly declare the sentiment for us without even needing any sort of pre labeled training mechanisms."
   ]
  },
  {
   "cell_type": "markdown",
   "metadata": {},
   "source": [
    "- well, luckily one of the solutions is called VADER which stands for Valence Aware Dictionary for sEntiment REasoning). Vader is a model used for text sentiment analysis that is sensitive to both **polarity** that is whether something is positive or negative and **intensity** that is the strength of the emotion.\n",
    "\n",
    "- Luckily for us it is available in the NLTK package and can be applied directly to unlabeled text data."
   ]
  },
  {
   "cell_type": "markdown",
   "metadata": {},
   "source": [
    "- Primarily VADER sentiment analysis relies on a dictionary which maps lexical features to emotion intensities called sentiment scores. \n",
    "\n",
    "- The sentiment score of a text can then be attained by summing up the intensity of each word in the text.\n",
    "\n",
    "So essentially every single word has some sort of positive or negative value attached to it.\n",
    "\n",
    "And what we do is we just take all the words instead of a text document and then convert them into positive or negative values and then we sum that all up and that will be our document sentiment score."
   ]
  },
  {
   "cell_type": "markdown",
   "metadata": {},
   "source": [
    "- So for example, you can think of words like \"love\", \"like\", \"enjoy\" and \"happy\". Those all convey a **positive** sentiment.\n",
    "\n",
    "- And remember we also talked about the strength of the emotion and VADER is actually intelligent enough to understand basic context of these words such as **\"did not love\"** as a negative sentiment.\n",
    "\n",
    "So don't be too concerned about things like having the word \"love\" be completely positive because VADER will also take into account the context of the words because if there's a negative word such as \"not\" preceding a positive word then you can understand that that whole sentiment is probably negative. So \"not love\" or \"it did not like\" or \"did not enjoy\" VADER will understand that.\n",
    "\n",
    "- And it's also going to understand things like capitalization and punctuation.\n",
    "\n",
    "So if you write just a lowercase word \"love\" that doesn't convey a positive emotion as strongly as **\"LOVE!!!!\"** in all caps with a bunch of exclamation marks. So VADER is also smart enough to take that into account."
   ]
  },
  {
   "cell_type": "markdown",
   "metadata": {},
   "source": [
    "- Sentiment on raw text is always going to be challenging because there's a variety of possible factors:\n",
    "\n",
    "- things like positive and negative sentiment in the same text data.\n",
    "\n",
    "So for example if you're reading a movie review, often movie reviews will praise actors capabilities.\n",
    "\n",
    "\n",
    "However maybe they judge the overall screenplay or the script of the movie itself as very poor and as we know if you've seen a movie with great actors in it that isn't a good movie often has to do with the screenplay or the poor script or just the poor storyline.\n",
    "\n",
    "So a movie review could have a positive things about the actors but that negative things to say about the overall movie itself and if there's more positive things about the actors than vader is going to say that the overall movie review could be positive when in fact the true analysis of the movie movie review when read it by human would be that the overall movie was negative but the actors were positive in it.\n",
    "\n",
    "- Another thing that's very difficult to detect is sarcasm.\n",
    "\n",
    "This is pretty much impossible for Vader to the text because you end up using positive words in a negative way sarcastically.\n",
    "\n",
    "So keep these two ideas in mind. This sense of analysis from Vader is definitely not going to be foolproof."
   ]
  },
  {
   "cell_type": "markdown",
   "metadata": {},
   "source": [
    "So we're going to do now is explore using VADER sentiment analysis NLTK and Python.\n",
    "\n",
    "The key thing to keep in mind here is that we're going to be able to apply Vader onto any raw text data that we want."
   ]
  }
 ],
 "metadata": {
  "kernelspec": {
   "display_name": "Python 3",
   "language": "python",
   "name": "python3"
  },
  "language_info": {
   "codemirror_mode": {
    "name": "ipython",
    "version": 3
   },
   "file_extension": ".py",
   "mimetype": "text/x-python",
   "name": "python",
   "nbconvert_exporter": "python",
   "pygments_lexer": "ipython3",
   "version": "3.6.6"
  }
 },
 "nbformat": 4,
 "nbformat_minor": 2
}
