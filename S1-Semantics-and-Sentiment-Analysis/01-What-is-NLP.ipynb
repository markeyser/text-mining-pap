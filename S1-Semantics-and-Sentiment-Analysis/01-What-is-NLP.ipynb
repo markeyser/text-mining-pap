{
 "cells": [
  {
   "cell_type": "markdown",
   "metadata": {},
   "source": [
    "# What is Natural Langugage Processing?"
   ]
  },
  {
   "cell_type": "markdown",
   "metadata": {},
   "source": [
    "So far we've learned how to work with text files on Python. We can do even more things with text files such as regular expressions as well as work of PDF files. But I wouldn't say that those processes that we've learned are really natural language processing. So what is NLP or natural language processing? \n",
    "\n",
    "For a formal definition according to Wikipedia,\n",
    "\n",
    ">_Natural Language Processing or an NLP for short, is an area of Computer Science and Artificial Intelligence\n",
    "concern of the interactions between computers and human (natural) languages, in particular how to program computers to process and analyze large amounts of natural language data._"
   ]
  },
  {
   "cell_type": "markdown",
   "metadata": {},
   "source": [
    "Now to put this in more simple terms:\n",
    "\n",
    "- Often when performing some sort of analysis usually have lots of data that's numerical and that's really convenient. Things like sales numbers, physical measurements ,quantifiable categories.\n",
    "- Computers are already very good at handling direct numerical information.\n",
    "- However what do we do with computers about actual natural language data that is text data? "
   ]
  },
  {
   "cell_type": "markdown",
   "metadata": {},
   "source": [
    "---\n",
    "- As humans, It's really easy for us to tell that there is a plethora of information inside of a text document like a PDF file,  an e-mail,  a book there's lots of information that we can easily access because we're humans and we understand how to read that natural language.\n",
    "\n",
    "- But a computer needs specialized processing techniques in order to \"understand\" raw text data text data.\n",
    "\n",
    "- Is highly unstructured and can also be in multiple languages not just English.\n",
    "---"
   ]
  },
  {
   "cell_type": "markdown",
   "metadata": {},
   "source": [
    "- Natural Language Processing attempts to use a variety of techniques in order to create some sort of structure out of raw text data.\n",
    "- In this section of the course we're going to start actually discussing some of these basic techniques which is why we didn't really introduce this lecture of what is NLP until now. So these techniques are built into libraries such as Spacy and NLTK."
   ]
  },
  {
   "cell_type": "markdown",
   "metadata": {},
   "source": [
    "### Example Use Cases:\n",
    "\n",
    "- Some example use cases of natural language processing is taking a raw text **email and classifying it as spam versus a legitimate email**\n",
    "\n",
    "- or taking a raw text movie review and actually grabbing the **sentiment analysis&& being able to tell if the review is positive or negative.\n",
    "\n",
    "- We can also do things like analyze trends from written customer feedback forums \n",
    "\n",
    "- or even understand text commands such as when you're talking to your phone. You say something like \"Hey Google play this song\" or \"Hey Siri\" or \"Hey Alexa\" \n",
    "\n",
    "that needs natural language processing in order to convert that text information to something the computer can understand."
   ]
  },
  {
   "cell_type": "markdown",
   "metadata": {},
   "source": [
    "- Natural language processing is constantly evolving and great strides are made even every month here.\n",
    "\n",
    "- We're going to focus on fundamental ideas that all state of the art techniques are based off of.\n",
    "\n",
    "So let's begin by learning about the basics of using the Spacy library."
   ]
  },
  {
   "cell_type": "code",
   "execution_count": null,
   "metadata": {},
   "outputs": [],
   "source": []
  }
 ],
 "metadata": {
  "kernelspec": {
   "display_name": "Python 3",
   "language": "python",
   "name": "python3"
  },
  "language_info": {
   "codemirror_mode": {
    "name": "ipython",
    "version": 3
   },
   "file_extension": ".py",
   "mimetype": "text/x-python",
   "name": "python",
   "nbconvert_exporter": "python",
   "pygments_lexer": "ipython3",
   "version": "3.6.6"
  }
 },
 "nbformat": 4,
 "nbformat_minor": 2
}
